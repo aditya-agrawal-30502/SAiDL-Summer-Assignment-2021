{
  "nbformat": 4,
  "nbformat_minor": 0,
  "metadata": {
    "colab": {
      "name": "SAiDL RL.ipynb",
      "provenance": []
    },
    "kernelspec": {
      "name": "python3",
      "display_name": "Python 3"
    },
    "language_info": {
      "name": "python"
    }
  },
  "cells": [
    {
      "cell_type": "code",
      "metadata": {
        "id": "ijHUgddSrUjy"
      },
      "source": [
        "import torch\n",
        "import torch.nn as nn\n",
        "from torch.utils.data import Dataset,DataLoader\n",
        "import torchvision.datasets as datasets\n",
        "import torchvision.transforms as transforms\n",
        "if (torch.cuda.is_available()):\n",
        "  device = torch.device('cuda')\n",
        "else:\n",
        "  device = torch.device('cpu')"
      ],
      "execution_count": null,
      "outputs": []
    },
    {
      "cell_type": "code",
      "metadata": {
        "id": "DZflPjuZsBrk"
      },
      "source": [
        "import gym\n",
        "from gym import error, spaces, utils\n",
        "from gym.utils import seeding\n",
        "import random\n",
        "class FooEnv(gym.Env):\n",
        "  def __init__(self,test = False):\n",
        "    super().__init__()\n",
        "    self.coefficients = (torch.rand([6])-0.5)*60\n",
        "    self.x = torch.rand([1])*100\n",
        "    self.y = torch.rand([1])*100\n",
        "    self.test = test\n",
        "    if self.test:\n",
        "      self.coefficients = torch.ones([6])\n",
        "      self.x = torch.ones([1])\n",
        "      self.y = torch.ones([1])\n",
        "    self.x = self.x.to(device)\n",
        "    self.y = self.y.to(device)\n",
        "    self.coefficients = self.coefficients.to(device)\n",
        "    self.state = torch.cat([self.coefficients,self.x,self.y])\n",
        "    self.length = 50\n",
        "  def step(self, actionx, actiony):\n",
        "    netin = self.calc()\n",
        "    self.x += actionx\n",
        "    self.y += actiony\n",
        "    self.length-=1\n",
        "    netfin = self.calc()\n",
        "    info = {}\n",
        "    if (netfin<netin):\n",
        "      reward = 1\n",
        "    else:\n",
        "      reward = -5\n",
        "    self.state = torch.cat([self.coefficients,self.x,self.y])\n",
        "    return self.state,reward,self.length,info\n",
        "  def reset(self):\n",
        "    self.coefficients = (torch.rand([6])-0.5)*60\n",
        "    self.x = torch.rand([1])*100\n",
        "    self.y = torch.rand([1])*100\n",
        "    if self.test:\n",
        "      self.coefficients = torch.ones([6])\n",
        "      self.x = torch.ones([1])\n",
        "      self.y = torch.ones([1])\n",
        "    self.x = self.x.to(device)\n",
        "    self.y = self.y.to(device)\n",
        "    self.coefficients = self.coefficients.to(device)\n",
        "    self.state = torch.cat([self.coefficients,self.x,self.y])\n",
        "    self.length = 50\n",
        "  def render(self, mode='human'):\n",
        "    pass\n",
        "  def calc(self):\n",
        "    ans = self.coefficients[0]*(self.x**2)+self.coefficients[1]*(self.y**2)+self.coefficients[2]*(self.x*self.y)+self.coefficients[3]*(self.x)+self.coefficients[4]*(self.y)+self.coefficients[5]\n",
        "    return ans\n",
        "\n",
        "environment = FooEnv()"
      ],
      "execution_count": null,
      "outputs": []
    },
    {
      "cell_type": "code",
      "metadata": {
        "id": "8xJt1ZqBrx9d",
        "colab": {
          "base_uri": "https://localhost:8080/"
        },
        "outputId": "a29dd9ff-337b-48d7-d679-7b882aaf5f03"
      },
      "source": [
        "class Network(nn.Module):\n",
        "  def __init__(self):\n",
        "    super().__init__()\n",
        "    self.m = nn.Sequential(\n",
        "        nn.Linear(8,32),\n",
        "        nn.Tanh(),\n",
        "        nn.Linear(32,32),\n",
        "        nn.Tanh(),\n",
        "        nn.Linear(32,64),\n",
        "        nn.Tanh(),\n",
        "        nn.Linear(64,128),\n",
        "        nn.Tanh(),\n",
        "        nn.Linear(128,4)\n",
        "\n",
        "    )\n",
        "  def forward(self,x):\n",
        "    return self.m(x)\n",
        "\n",
        "model = Network()\n",
        "model.to(device)"
      ],
      "execution_count": null,
      "outputs": [
        {
          "output_type": "execute_result",
          "data": {
            "text/plain": [
              "Network(\n",
              "  (m): Sequential(\n",
              "    (0): Linear(in_features=8, out_features=32, bias=True)\n",
              "    (1): Tanh()\n",
              "    (2): Linear(in_features=32, out_features=32, bias=True)\n",
              "    (3): Tanh()\n",
              "    (4): Linear(in_features=32, out_features=64, bias=True)\n",
              "    (5): Tanh()\n",
              "    (6): Linear(in_features=64, out_features=128, bias=True)\n",
              "    (7): Tanh()\n",
              "    (8): Linear(in_features=128, out_features=4, bias=True)\n",
              "  )\n",
              ")"
            ]
          },
          "metadata": {
            "tags": []
          },
          "execution_count": 14
        }
      ]
    },
    {
      "cell_type": "code",
      "metadata": {
        "id": "znKkAkyVNXZK"
      },
      "source": [
        "def cost(prob,rewards):\n",
        "  gamma = 0.9\n",
        "  reward = torch.zeros(1,requires_grad=True)\n",
        "  loss = torch.zeros(1,requires_grad=True)\n",
        "  reward = reward.to(device)\n",
        "  loss = loss.to(device)\n",
        "  for i in range(len(rewards)):\n",
        "    reward = rewards[i] + gamma*reward\n",
        "    loss = loss - reward*prob[i]\n",
        "  return loss"
      ],
      "execution_count": null,
      "outputs": []
    },
    {
      "cell_type": "code",
      "metadata": {
        "id": "_vvWLSH5aRdA"
      },
      "source": [
        "optimizer = torch.optim.Adam(model.parameters(),lr = 0.001)"
      ],
      "execution_count": null,
      "outputs": []
    },
    {
      "cell_type": "code",
      "metadata": {
        "id": "5y5ZxG8ie5uu"
      },
      "source": [
        "testenv = FooEnv(True)"
      ],
      "execution_count": null,
      "outputs": []
    },
    {
      "cell_type": "code",
      "metadata": {
        "id": "MVZmJEmzsr5Z"
      },
      "source": [
        "episode_reward = []"
      ],
      "execution_count": null,
      "outputs": []
    },
    {
      "cell_type": "code",
      "metadata": {
        "id": "tC-nx_Olf2Bf"
      },
      "source": [
        "def reinforce(env):\n",
        "  batches = 100\n",
        "  eps = 50\n",
        "  for i in range(batches):\n",
        "    loss = torch.zeros(1,requires_grad = True)\n",
        "    loss = loss.to(device)\n",
        "    for j in range(eps):\n",
        "      length = env.length\n",
        "      state = env.state\n",
        "      reward_list = []\n",
        "      action_list = []\n",
        "      action_prob_list = []\n",
        "      while (length>0):\n",
        "        params = model(state)\n",
        "        mean = params[:2]\n",
        "        covariance = torch.diag(params[2:])\n",
        "        covariance = torch.abs(covariance)\n",
        "        covariance = covariance.to(device)\n",
        "        dist = torch.distributions.MultivariateNormal(mean,covariance)\n",
        "        action = dist.sample()\n",
        "        action_prob = dist.log_prob(action)\n",
        "        state,reward,length,_ = env.step(action[0],action[1])\n",
        "        reward_list.append(reward)\n",
        "        action_list.insert(0,action)\n",
        "        action_prob_list.insert(0,action_prob)\n",
        "      loss = loss+cost(action_prob_list,reward_list)\n",
        "      env.reset()\n",
        "      episode_reward.append(sum(reward_list))\n",
        "    print('loss : ',loss.item())\n",
        "    optimizer.zero_grad()\n",
        "    loss.backward()\n",
        "    optimizer.step()"
      ],
      "execution_count": null,
      "outputs": []
    },
    {
      "cell_type": "code",
      "metadata": {
        "id": "JjJTNG9ugn9h"
      },
      "source": [
        "def modeltest(env):\n",
        "  env.reset()\n",
        "  length = env.length\n",
        "  state = env.state\n",
        "  while (length>0):\n",
        "    with torch.no_grad():\n",
        "      params = model(state)\n",
        "      mean = params[:2]\n",
        "      covariance = torch.tensor([[params[2],0],[0,params[3:]]])\n",
        "      covariance = torch.abs(covariance)\n",
        "      covariance = covariance.to(device)\n",
        "      dist = torch.distributions.MultivariateNormal(mean,covariance)\n",
        "      action = dist.sample()\n",
        "      state,reward,length,_ = env.step(action[0],action[1])\n",
        "  return env.calc().item()"
      ],
      "execution_count": null,
      "outputs": []
    },
    {
      "cell_type": "code",
      "metadata": {
        "colab": {
          "base_uri": "https://localhost:8080/"
        },
        "id": "4N_Tq9Jpibih",
        "outputId": "9f870cc4-fd35-414a-b1c4-a5b52922799f"
      },
      "source": [
        "expected = 0\n",
        "for i in range(1000):\n",
        " expected += modeltest(testenv)\n",
        "expected/=1000\n",
        "print(f'expected value : {expected}')"
      ],
      "execution_count": null,
      "outputs": [
        {
          "output_type": "stream",
          "text": [
            "expected value : 16.864271780848505\n"
          ],
          "name": "stdout"
        }
      ]
    },
    {
      "cell_type": "code",
      "metadata": {
        "colab": {
          "base_uri": "https://localhost:8080/"
        },
        "id": "fHXkFZbhgV3Y",
        "outputId": "ba5cf631-a2a5-4f09-9e85-3b754b4e1ce9"
      },
      "source": [
        "reinforce(environment)"
      ],
      "execution_count": null,
      "outputs": [
        {
          "output_type": "stream",
          "text": [
            "loss :  -2096.12060546875\n",
            "loss :  -22621.20703125\n",
            "loss :  -35210.2734375\n",
            "loss :  -42473.87109375\n",
            "loss :  -45246.671875\n",
            "loss :  -47237.7734375\n",
            "loss :  -43663.0390625\n",
            "loss :  -48470.3828125\n",
            "loss :  -51612.984375\n",
            "loss :  -41604.87890625\n",
            "loss :  -38096.1640625\n",
            "loss :  -33008.28515625\n",
            "loss :  -43747.12109375\n",
            "loss :  -42836.16796875\n",
            "loss :  -40347.140625\n",
            "loss :  -42601.0\n",
            "loss :  -41781.453125\n",
            "loss :  -48344.73828125\n",
            "loss :  -45596.39453125\n",
            "loss :  -50921.390625\n",
            "loss :  -49120.75390625\n",
            "loss :  -45733.4375\n",
            "loss :  -51301.484375\n",
            "loss :  -44055.13671875\n",
            "loss :  -58804.24609375\n",
            "loss :  -53730.5546875\n",
            "loss :  -60194.67578125\n",
            "loss :  -53367.61328125\n",
            "loss :  -59272.8125\n",
            "loss :  -44295.59765625\n",
            "loss :  -56567.6875\n",
            "loss :  -58784.4453125\n",
            "loss :  -55790.88671875\n",
            "loss :  -67071.28125\n",
            "loss :  -55229.8828125\n",
            "loss :  -59136.25390625\n",
            "loss :  -51189.11328125\n",
            "loss :  -55574.6328125\n",
            "loss :  -56399.578125\n",
            "loss :  -62266.984375\n",
            "loss :  -53135.69140625\n",
            "loss :  -55384.953125\n",
            "loss :  -60318.01953125\n",
            "loss :  -57204.2421875\n",
            "loss :  -59986.24609375\n",
            "loss :  -55993.3828125\n",
            "loss :  -61628.0390625\n",
            "loss :  -53541.49609375\n",
            "loss :  -57662.37890625\n",
            "loss :  -52034.34765625\n",
            "loss :  -57407.9453125\n",
            "loss :  -55029.6015625\n",
            "loss :  -56193.46484375\n",
            "loss :  -60093.3125\n",
            "loss :  -55166.36328125\n",
            "loss :  -62370.90234375\n",
            "loss :  -54046.51953125\n",
            "loss :  -53113.71875\n",
            "loss :  -63054.890625\n",
            "loss :  -54209.2734375\n",
            "loss :  -60268.71875\n",
            "loss :  -57931.2890625\n",
            "loss :  -53348.54296875\n",
            "loss :  -55641.4453125\n",
            "loss :  -62099.57421875\n",
            "loss :  -55057.83203125\n",
            "loss :  -58055.046875\n",
            "loss :  -58237.4140625\n",
            "loss :  -58844.50390625\n",
            "loss :  -59517.16015625\n",
            "loss :  -61656.7734375\n",
            "loss :  -59703.01171875\n",
            "loss :  -54612.0078125\n",
            "loss :  -58314.15234375\n",
            "loss :  -54899.109375\n",
            "loss :  -54692.03515625\n",
            "loss :  -50766.984375\n",
            "loss :  -54877.72265625\n",
            "loss :  -58648.171875\n",
            "loss :  -55015.95703125\n",
            "loss :  -53969.58984375\n",
            "loss :  -57567.5390625\n",
            "loss :  -57701.9609375\n",
            "loss :  -49400.90625\n",
            "loss :  -49817.9453125\n",
            "loss :  -53249.28125\n",
            "loss :  -53437.296875\n",
            "loss :  -60213.80078125\n",
            "loss :  -59751.2734375\n",
            "loss :  -58223.26953125\n",
            "loss :  -50791.04296875\n",
            "loss :  -60183.375\n",
            "loss :  -56485.06640625\n",
            "loss :  -56988.28125\n",
            "loss :  -55707.828125\n",
            "loss :  -58766.2890625\n",
            "loss :  -50954.18359375\n",
            "loss :  -53286.296875\n",
            "loss :  -54100.19921875\n",
            "loss :  -52555.359375\n"
          ],
          "name": "stdout"
        }
      ]
    },
    {
      "cell_type": "code",
      "metadata": {
        "id": "Le8RywsQgiyE",
        "colab": {
          "base_uri": "https://localhost:8080/"
        },
        "outputId": "cbf54618-344d-4737-9f05-4a7601551646"
      },
      "source": [
        "expected = 0\n",
        "for i in range(1000):\n",
        " expected += modeltest(testenv)\n",
        "expected/=1000\n",
        "print(f'expected value : {expected}')"
      ],
      "execution_count": null,
      "outputs": [
        {
          "output_type": "stream",
          "text": [
            "expected value : 49.06428558665514\n"
          ],
          "name": "stdout"
        }
      ]
    },
    {
      "cell_type": "code",
      "metadata": {
        "id": "1Gywi3NPs0M_",
        "colab": {
          "base_uri": "https://localhost:8080/",
          "height": 265
        },
        "outputId": "ab2522eb-5dce-4dfd-c64d-50ccf1174ebc"
      },
      "source": [
        "import matplotlib.pyplot as plt\n",
        "\n",
        "for i in range(len(episode_reward)):\n",
        "  episode_reward[i]  = episode_reward[i]\n",
        "\n",
        "moving_averages = []\n",
        "for i in range(100,len(episode_reward)):\n",
        "  moving_averages.append(sum(episode_reward[i-100:i])/100)\n",
        "plt.plot(episode_reward)\n",
        "plt.plot(moving_averages)\n",
        "plt.show()"
      ],
      "execution_count": null,
      "outputs": [
        {
          "output_type": "display_data",
          "data": {
            "image/png": "[encoded data removed]",
            "text/plain": [
              "<Figure size 432x288 with 1 Axes>"
            ]
          },
          "metadata": {
            "tags": [],
            "needs_background": "light"
          }
        }
      ]
    }
  ]
}